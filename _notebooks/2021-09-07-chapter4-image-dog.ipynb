{
 "cells": [
  {
   "cell_type": "markdown",
   "source": [
    "# Chapter 4 Real-world data representation using tensors\r\n",
    "> A summary of chapter 4 .\r\n",
    "\r\n",
    "- toc: true \r\n",
    "- badges: true\r\n",
    "- comments: true\r\n",
    "- description: A chapterwise synopsys of book \"Deep Learning with PyTorch\".\r\n",
    "- categories: [jupyter]\r\n",
    "- image: images/chart-preview.png"
   ],
   "metadata": {}
  },
  {
   "cell_type": "code",
   "execution_count": 1,
   "source": [
    "import numpy as np\r\n",
    "import torch\r\n",
    "torch.set_printoptions(edgeitems=2, threshold=50)"
   ],
   "outputs": [],
   "metadata": {}
  },
  {
   "cell_type": "code",
   "execution_count": 2,
   "source": [
    "import imageio\r\n",
    "\r\n",
    "img_arr = imageio.imread('../data/p1ch4/image-dog/bobby.jpg')\r\n",
    "img_arr.shape"
   ],
   "outputs": [
    {
     "output_type": "execute_result",
     "data": {
      "text/plain": [
       "(720, 1280, 3)"
      ]
     },
     "metadata": {},
     "execution_count": 2
    }
   ],
   "metadata": {}
  },
  {
   "cell_type": "code",
   "execution_count": 3,
   "source": [
    "img = torch.from_numpy(img_arr)\r\n",
    "out = img.permute(2, 0, 1)"
   ],
   "outputs": [],
   "metadata": {}
  },
  {
   "cell_type": "code",
   "execution_count": 4,
   "source": [
    "batch_size = 3\r\n",
    "batch = torch.zeros(batch_size, 3, 256, 256, dtype=torch.uint8)"
   ],
   "outputs": [],
   "metadata": {}
  },
  {
   "cell_type": "code",
   "execution_count": 5,
   "source": [
    "import os\r\n",
    "\r\n",
    "data_dir = '../data/p1ch4/image-cats/'\r\n",
    "filenames = [name for name in os.listdir(data_dir)\r\n",
    "             if os.path.splitext(name)[-1] == '.png']\r\n",
    "for i, filename in enumerate(filenames):\r\n",
    "    img_arr = imageio.imread(os.path.join(data_dir, filename))\r\n",
    "    img_t = torch.from_numpy(img_arr)\r\n",
    "    img_t = img_t.permute(2, 0, 1)\r\n",
    "    img_t = img_t[:3] # <1>\r\n",
    "    batch[i] = img_t"
   ],
   "outputs": [],
   "metadata": {
    "scrolled": true
   }
  },
  {
   "cell_type": "code",
   "execution_count": 6,
   "source": [
    "batch = batch.float()\r\n",
    "batch /= 255.0"
   ],
   "outputs": [],
   "metadata": {}
  },
  {
   "cell_type": "code",
   "execution_count": 7,
   "source": [
    "n_channels = batch.shape[1]\n",
    "for c in range(n_channels):\n",
    "    mean = torch.mean(batch[:, c])\n",
    "    std = torch.std(batch[:, c])\n",
    "    batch[:, c] = (batch[:, c] - mean) / std"
   ],
   "outputs": [],
   "metadata": {}
  }
 ],
 "metadata": {
  "kernelspec": {
   "display_name": "Python 3 (ipykernel)",
   "language": "python",
   "name": "python3"
  },
  "language_info": {
   "codemirror_mode": {
    "name": "ipython",
    "version": 3
   },
   "file_extension": ".py",
   "mimetype": "text/x-python",
   "name": "python",
   "nbconvert_exporter": "python",
   "pygments_lexer": "ipython3",
   "version": "3.7.0"
  }
 },
 "nbformat": 4,
 "nbformat_minor": 2
}