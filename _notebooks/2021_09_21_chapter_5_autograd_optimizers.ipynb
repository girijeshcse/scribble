{
  "nbformat": 4,
  "nbformat_minor": 0,
  "metadata": {
    "kernelspec": {
      "display_name": "Python 3 (ipykernel)",
      "language": "python",
      "name": "python3"
    },
    "language_info": {
      "codemirror_mode": {
        "name": "ipython",
        "version": 3
      },
      "file_extension": ".py",
      "mimetype": "text/x-python",
      "name": "python",
      "nbconvert_exporter": "python",
      "pygments_lexer": "ipython3",
      "version": "3.7.0"
    },
    "colab": {
      "name": "2021-09-21-chapter-5-autograd-optimizers.ipynb",
      "provenance": [],
      "collapsed_sections": [],
      "toc_visible": true
    }
  },
  "cells": [
    {
      "cell_type": "markdown",
      "metadata": {
        "id": "rXxERKhZAvMA"
      },
      "source": [
        ""
      ]
    },
    {
      "cell_type": "markdown",
      "metadata": {
        "id": "KIJSy6Eyor4h"
      },
      "source": [
        "# Chapter 5 The Magic of Autograd and Optimizers\n",
        "> A summary of chapter 5 part 2 of Deep learning with PyTorch\n",
        "\n",
        "- toc: true\n",
        "- badges: true\n",
        "- comments: true\n",
        "- categories: [jupyter]\n",
        "- image: image/chart-preview"
      ]
    },
    {
      "cell_type": "markdown",
      "metadata": {
        "id": "-H9h7-Vkphix"
      },
      "source": [
        "# The magic of Autograd\n",
        "\n",
        "In [part 1](https://girijeshcse.github.io/scribble/jupyter/2121/09/14/chapter-5.html) we saw that how we can train a linear model with backpropagation. In nutshell what we computed the gradient of a composition of functions—the model and the loss—with respect to their innermost parameters (w and b) by propagating derivatives backward using the chain rule.\n",
        "      \n",
        "The basic requirement here is that all functions we’re dealing\n",
        "with can be differentiated analytically but as we increase the depth of the model, writing the analytical expression for the derivatives is not that easy.\n",
        "\n",
        "This is when PyTorch tensors come to the rescue, with a PyTorch component called\n",
        "*autograd*.\n",
        "\n",
        "PyTorch tensors can remember where they come from, in terms of the operations and parent tensors that originated them, and they can automatically provide the chain of derivatives of such operations with respect to their inputs. This means **PyTorch will automatically provide the gradient of that expression with respect to its input parameters.**\n"
      ]
    },
    {
      "cell_type": "markdown",
      "metadata": {
        "id": "V3MDYHGTvQSj"
      },
      "source": [
        "## Computing the gradient automatically \n",
        "\n",
        "Lets rewrite out code using autograd."
      ]
    },
    {
      "cell_type": "code",
      "metadata": {
        "id": "8UZ36r5_ARM7"
      },
      "source": [
        "%matplotlib inline\n",
        "import numpy as np\n",
        "import torch\n",
        "torch.set_printoptions(edgeitems=2)"
      ],
      "execution_count": 1,
      "outputs": []
    },
    {
      "cell_type": "code",
      "metadata": {
        "id": "SCEDiX5PARNB"
      },
      "source": [
        "t_c = torch.tensor([0.5, 14.0, 15.0, 28.0, 11.0, 8.0,\n",
        "                    3.0, -4.0, 6.0, 13.0, 21.0])\n",
        "t_u = torch.tensor([35.7, 55.9, 58.2, 81.9, 56.3, 48.9,\n",
        "                    33.9, 21.8, 48.4, 60.4, 68.4])\n",
        "t_un = 0.1 * t_u"
      ],
      "execution_count": 2,
      "outputs": []
    },
    {
      "cell_type": "markdown",
      "metadata": {
        "id": "f1I_EObawXkV"
      },
      "source": [
        " Recalling our model and loss function"
      ]
    },
    {
      "cell_type": "code",
      "metadata": {
        "id": "lu3sWd-gARNC"
      },
      "source": [
        "def model(t_u, w, b):\n",
        "    return w * t_u + b"
      ],
      "execution_count": 3,
      "outputs": []
    },
    {
      "cell_type": "code",
      "metadata": {
        "id": "86Sq10MkARND"
      },
      "source": [
        "def loss_fn(t_p, t_c):\n",
        "    squared_diffs = (t_p - t_c)**2\n",
        "    return squared_diffs.mean()"
      ],
      "execution_count": 4,
      "outputs": []
    },
    {
      "cell_type": "markdown",
      "metadata": {
        "id": "LJit4AyUwfKP"
      },
      "source": [
        "Let’s again initialize a parameters tensor:"
      ]
    },
    {
      "cell_type": "code",
      "metadata": {
        "id": "dbp2Z2iCARND"
      },
      "source": [
        "params = torch.tensor([1.0, 0.0], requires_grad=True)"
      ],
      "execution_count": 5,
      "outputs": []
    },
    {
      "cell_type": "markdown",
      "metadata": {
        "id": "_2ujHQtownKg"
      },
      "source": [
        "The *requires_grad=True* argument is telling PyTorch to track the entire family tree of tensors resulting from operations on params."
      ]
    },
    {
      "cell_type": "code",
      "metadata": {
        "colab": {
          "base_uri": "https://localhost:8080/"
        },
        "id": "cqDrDZ7KARNE",
        "outputId": "83338cfc-ec70-4e0f-b1dd-7866bea333e4"
      },
      "source": [
        "params.grad is None"
      ],
      "execution_count": 6,
      "outputs": [
        {
          "output_type": "execute_result",
          "data": {
            "text/plain": [
              "True"
            ]
          },
          "metadata": {},
          "execution_count": 6
        }
      ]
    },
    {
      "cell_type": "code",
      "metadata": {
        "colab": {
          "base_uri": "https://localhost:8080/"
        },
        "id": "NLmBqIYLARNF",
        "outputId": "92275bd7-135e-4a90-88ec-179b23aca342"
      },
      "source": [
        "loss = loss_fn(model(t_u, *params), t_c)\n",
        "loss.backward()\n",
        "\n",
        "params.grad"
      ],
      "execution_count": 7,
      "outputs": [
        {
          "output_type": "execute_result",
          "data": {
            "text/plain": [
              "tensor([4517.2969,   82.6000])"
            ]
          },
          "metadata": {},
          "execution_count": 7
        }
      ]
    },
    {
      "cell_type": "markdown",
      "metadata": {
        "id": "9g-L_6GDxCQC"
      },
      "source": [
        "At this point, the grad attribute of params contains the derivatives of the loss with respect to each element of params."
      ]
    },
    {
      "cell_type": "markdown",
      "metadata": {
        "id": "tuQCP0ktxMhA"
      },
      "source": [
        "\n",
        "## The forward graph and backward graph of the model as computed with autograd\n",
        "\n",
        "\n",
        "![](my_icons/ch55.JPG)\n",
        "\n",
        "When we compute our loss while the parameters w and b require gradients, in addition to performing the actual computation, PyTorch creates the autograd graph with the operations (in black circles) as nodes, as shown in the top row of figure above. When we call *loss.backward()*, PyTorch traverses this graph in the reverse direction to compute the gradients, as shown by the arrows in the bottom row of the figure.\n",
        "\n"
      ]
    },
    {
      "cell_type": "markdown",
      "metadata": {
        "id": "Cu4Osc8sxLwx"
      },
      "source": [
        "\n",
        "### Accumulating Grad Funtion\n",
        "\n",
        "Calling backward will lead derivatives to accumulate at leaf nodes. So if backward was called earlier, the loss is evaluated again, backward is called again (as in any training loop), and the gradient at each leaf is accumulated (that is, summed) on top of the one computed at the previous iteration, which leads to an ***incorrect value*** for the gradient. In order to prevent this from occurring, ***we need to zero the gradient explicitly at each iteration***. We can do this easily using the in-place zero_ method:"
      ]
    },
    {
      "cell_type": "code",
      "metadata": {
        "id": "9TPwPqjTARNH"
      },
      "source": [
        "if params.grad is not None:\n",
        "    params.grad.zero_()"
      ],
      "execution_count": 8,
      "outputs": []
    },
    {
      "cell_type": "code",
      "metadata": {
        "id": "3SIEr0R8ARNI"
      },
      "source": [
        "def training_loop(n_epochs, learning_rate, params, t_u, t_c):\n",
        "    for epoch in range(1, n_epochs + 1):\n",
        "        if params.grad is not None:  # This could be done at any point in the loop prior to calling loss.backward().\n",
        "            params.grad.zero_()\n",
        "        \n",
        "        t_p = model(t_u, *params) \n",
        "        loss = loss_fn(t_p, t_c)\n",
        "        loss.backward()\n",
        "        \n",
        "        with torch.no_grad():  # This is a somewhat cumbersome bit of code, but as we’ll see in the next section, it’s not an issue in practice.\n",
        "            params -= learning_rate * params.grad\n",
        "\n",
        "        if epoch % 500 == 0:\n",
        "            print('Epoch %d, Loss %f' % (epoch, float(loss)))\n",
        "            \n",
        "    return params"
      ],
      "execution_count": 9,
      "outputs": []
    },
    {
      "cell_type": "code",
      "metadata": {
        "colab": {
          "base_uri": "https://localhost:8080/"
        },
        "id": "46JQYXT6ARNJ",
        "outputId": "e76fc53a-8035-4865-c915-bacd6382e419"
      },
      "source": [
        "training_loop(\n",
        "    n_epochs = 5000, \n",
        "    learning_rate = 1e-2, \n",
        "    params = torch.tensor([1.0, 0.0], requires_grad=True), # <1> \n",
        "    t_u = t_un, # <2> \n",
        "    t_c = t_c)"
      ],
      "execution_count": 10,
      "outputs": [
        {
          "output_type": "stream",
          "name": "stdout",
          "text": [
            "Epoch 500, Loss 7.860115\n",
            "Epoch 1000, Loss 3.828538\n",
            "Epoch 1500, Loss 3.092191\n",
            "Epoch 2000, Loss 2.957698\n",
            "Epoch 2500, Loss 2.933134\n",
            "Epoch 3000, Loss 2.928648\n",
            "Epoch 3500, Loss 2.927830\n",
            "Epoch 4000, Loss 2.927679\n",
            "Epoch 4500, Loss 2.927652\n",
            "Epoch 5000, Loss 2.927647\n"
          ]
        },
        {
          "output_type": "execute_result",
          "data": {
            "text/plain": [
              "tensor([  5.3671, -17.3012], requires_grad=True)"
            ]
          },
          "metadata": {},
          "execution_count": 10
        }
      ]
    },
    {
      "cell_type": "markdown",
      "metadata": {
        "id": "7XJagZOO0NYC"
      },
      "source": [
        "#  Making this more better\n",
        "\n",
        "What we have just saw is using *vanilla* gradient descent worked pretty well in our case, but we have several other optimization techniques which can help in convergance, especially when models get complicated."
      ]
    },
    {
      "cell_type": "code",
      "metadata": {
        "id": "NXrs3egsARNK",
        "colab": {
          "base_uri": "https://localhost:8080/"
        },
        "outputId": "4e6d0919-f697-482a-a387-5968448348ed"
      },
      "source": [
        "import torch.optim as optim\n",
        "dir(optim)"
      ],
      "execution_count": 11,
      "outputs": [
        {
          "output_type": "execute_result",
          "data": {
            "text/plain": [
              "['ASGD',\n",
              " 'Adadelta',\n",
              " 'Adagrad',\n",
              " 'Adam',\n",
              " 'AdamW',\n",
              " 'Adamax',\n",
              " 'LBFGS',\n",
              " 'Optimizer',\n",
              " 'RMSprop',\n",
              " 'Rprop',\n",
              " 'SGD',\n",
              " 'SparseAdam',\n",
              " '__builtins__',\n",
              " '__cached__',\n",
              " '__doc__',\n",
              " '__file__',\n",
              " '__loader__',\n",
              " '__name__',\n",
              " '__package__',\n",
              " '__path__',\n",
              " '__spec__',\n",
              " '_functional',\n",
              " '_multi_tensor',\n",
              " 'lr_scheduler',\n",
              " 'swa_utils']"
            ]
          },
          "metadata": {},
          "execution_count": 11
        }
      ]
    },
    {
      "cell_type": "markdown",
      "metadata": {
        "id": "D7qphXYuB6_J"
      },
      "source": [
        "Every optimizer constructor takes a list of parameters (aka PyTorch tensors, typically with requires_grad set to True) as the first input. All parameters passed to the optimizer are retained inside the optimizer object so the optimizer can update their values and access their grad attribute, as represented in figure below.\n",
        "\n",
        "![](my_icons/ch56.JPG)"
      ]
    },
    {
      "cell_type": "markdown",
      "metadata": {
        "id": "4exb82f4Cbcj"
      },
      "source": [
        "Each optimizer exposes two methods: zero_grad and step. zero_grad zeroes the\n",
        "grad attribute of all the parameters passed to the optimizer upon construction. step updates the value of those parameters according to the optimization strategy implemented by the specific optimizer."
      ]
    },
    {
      "cell_type": "markdown",
      "metadata": {
        "id": "ub1zmG4zDEbL"
      },
      "source": [
        "## Using a Gradient Descent optimizer \n",
        "Let’s create params and instantiate a gradient descent optimizer:"
      ]
    },
    {
      "cell_type": "code",
      "metadata": {
        "id": "P6y88MIRBmyU"
      },
      "source": [
        "parmas = torch.tensor([1.0, 0.0], requires_grad=True)\n",
        "learning_rate = 1e-5\n",
        "optimizer = optim.SGD([params], lr=learning_rate)"
      ],
      "execution_count": 12,
      "outputs": []
    },
    {
      "cell_type": "code",
      "metadata": {
        "colab": {
          "base_uri": "https://localhost:8080/"
        },
        "id": "9H6tDsNcDrtE",
        "outputId": "80a3c6ad-b706-4df3-c242-2d74a7598f45"
      },
      "source": [
        "t_p = model(t_u, *params)\n",
        "loss = loss_fn(t_p, t_c)\n",
        "loss.backward()\n",
        "\n",
        "optimizer.step()\n",
        "params"
      ],
      "execution_count": 13,
      "outputs": [
        {
          "output_type": "execute_result",
          "data": {
            "text/plain": [
              "tensor([ 9.5483e-01, -8.2600e-04], requires_grad=True)"
            ]
          },
          "metadata": {},
          "execution_count": 13
        }
      ]
    },
    {
      "cell_type": "markdown",
      "metadata": {
        "id": "dEoUKARVEWK8"
      },
      "source": [
        "The value of params is updated upon calling *step* without us having to touch it ourselves! What happens is that the optimizer looks into *params.grad* and updates *params*, subtracting *learning_rate* times grad from it, exactly as in our former handrolled code.\n",
        "\n",
        "But we forgot to zero out our gradients, they would have accumulated in the leaves at every call to *backward*. Let's place *zero_grad* ar right place."
      ]
    },
    {
      "cell_type": "code",
      "metadata": {
        "colab": {
          "base_uri": "https://localhost:8080/"
        },
        "id": "wZW2XMdNENdq",
        "outputId": "8007b563-cc0f-41de-bdd2-69605a863823"
      },
      "source": [
        "parmas = torch.tensor([1.0, 0.0], requires_grad=True)\n",
        "learning_rate = 1e-2\n",
        "optimizer = optim.SGD([params], lr=learning_rate)\n",
        "\n",
        "t_p = model(t_u, *params)\n",
        "loss = loss_fn(t_p, t_c)\n",
        "\n",
        "\n",
        "optimizer.zero_grad()\n",
        "loss.backward()\n",
        "optimizer.step()\n",
        "\n",
        "params\n"
      ],
      "execution_count": 14,
      "outputs": [
        {
          "output_type": "execute_result",
          "data": {
            "text/plain": [
              "tensor([-41.5604,  -0.7800], requires_grad=True)"
            ]
          },
          "metadata": {},
          "execution_count": 14
        }
      ]
    },
    {
      "cell_type": "markdown",
      "metadata": {
        "id": "4L81qXLhP-yu"
      },
      "source": [
        "Let’s update our training loop accordingly:"
      ]
    },
    {
      "cell_type": "code",
      "metadata": {
        "id": "6P6UYyuqFhgu"
      },
      "source": [
        "def training_loop(n_epochs, optimizer, params, t_u, t_c):\n",
        "  for epoch in range(1, n_epochs + 1):\n",
        "        t_p = model(t_u, *params) \n",
        "        loss = loss_fn(t_p, t_c)\n",
        "        \n",
        "        optimizer.zero_grad()\n",
        "        loss.backward()\n",
        "        optimizer.step()\n",
        "\n",
        "        if epoch % 500 == 0:\n",
        "          print('Epoch %d, Loss %f' % (epoch, float(loss)))\n",
        "        \n",
        "  return params"
      ],
      "execution_count": 16,
      "outputs": []
    },
    {
      "cell_type": "code",
      "metadata": {
        "colab": {
          "base_uri": "https://localhost:8080/"
        },
        "id": "mIUf4R7VQSAk",
        "outputId": "3444e4f6-fbd0-4d44-ef39-b342988189ae"
      },
      "source": [
        "params = torch.tensor([1.0, 0.0], requires_grad=True)\n",
        "learning_rate = 1e-2\n",
        "optimizer = optim.SGD([params], lr=learning_rate) # It’s important that both params are the same object; otherwise the optimizer won’t know what parameters were used by the model.\n",
        "\n",
        "training_loop(\n",
        "    n_epochs = 5000, \n",
        "    optimizer = optimizer,\n",
        "    params = params, # \n",
        "    t_u = t_un,\n",
        "    t_c = t_c)"
      ],
      "execution_count": 17,
      "outputs": [
        {
          "output_type": "stream",
          "name": "stdout",
          "text": [
            "Epoch 500, Loss 7.860120\n",
            "Epoch 1000, Loss 3.828538\n",
            "Epoch 1500, Loss 3.092191\n",
            "Epoch 2000, Loss 2.957698\n",
            "Epoch 2500, Loss 2.933134\n",
            "Epoch 3000, Loss 2.928648\n",
            "Epoch 3500, Loss 2.927830\n",
            "Epoch 4000, Loss 2.927679\n",
            "Epoch 4500, Loss 2.927652\n",
            "Epoch 5000, Loss 2.927647\n"
          ]
        },
        {
          "output_type": "execute_result",
          "data": {
            "text/plain": [
              "tensor([  5.3671, -17.3012], requires_grad=True)"
            ]
          },
          "metadata": {},
          "execution_count": 17
        }
      ]
    },
    {
      "cell_type": "markdown",
      "metadata": {
        "id": "fTiqg3NsQ6F2"
      },
      "source": [
        "## Testing other optimizers\n",
        "\n"
      ]
    },
    {
      "cell_type": "code",
      "metadata": {
        "colab": {
          "base_uri": "https://localhost:8080/"
        },
        "id": "hG9LpEFuQ1hl",
        "outputId": "4b483a5f-fe1a-4fbb-c3f8-738ee39b3c02"
      },
      "source": [
        "params = torch.tensor([1.0, 0.0], requires_grad=True)\n",
        "learning_rate = 1e-1\n",
        "optimizer = optim.Adam([params], lr=learning_rate) # New optimizer class\n",
        "\n",
        "training_loop(\n",
        "    n_epochs = 2000, \n",
        "    optimizer = optimizer,\n",
        "    params = params,\n",
        "    t_u = t_u, # We’re back to the original t_u as our input.\n",
        "    t_c = t_c)"
      ],
      "execution_count": 18,
      "outputs": [
        {
          "output_type": "stream",
          "name": "stdout",
          "text": [
            "Epoch 500, Loss 7.612900\n",
            "Epoch 1000, Loss 3.086700\n",
            "Epoch 1500, Loss 2.928579\n",
            "Epoch 2000, Loss 2.927644\n"
          ]
        },
        {
          "output_type": "execute_result",
          "data": {
            "text/plain": [
              "tensor([  0.5367, -17.3021], requires_grad=True)"
            ]
          },
          "metadata": {},
          "execution_count": 18
        }
      ]
    },
    {
      "cell_type": "markdown",
      "metadata": {
        "id": "2itK0_jJT2e2"
      },
      "source": [
        "The optimizer is not the only flexible part of our training loop. Let’s turn our attention to the model.\n",
        "\n",
        "## Training, validation, and overfitting\n",
        "\n",
        "The  optimizer generally minimize the loss at the data points. Sure enough, if we had independent data points that we didn’t use to evaluate our loss or descend along its negative gradient, we would soon find out that evaluating the loss at those independent data points would yield higher-than-expected loss, this phenomenon, called **overfitting**.\n",
        "\n",
        "we must take a few data points out of our dataset (the validation set) and only fit our model on the remaining data points (the training set), as shown in figure. \n",
        "\n",
        "\n",
        "![](my_icons/ch57.JPG)\n",
        "\n",
        "\n",
        "Then, while we’re fitting the model, we can evaluate the loss once on the training set and once on the validation set. When we’re trying to decide if we’ve done a good job of fitting our model to the data, we must look at both!\n",
        "\n",
        "\n",
        "A deep neural network can potentially approximate complicated functions, provided that the number of neurons, and therefore parameters, is high enough. \n",
        "\n",
        "if the loss evaluated in the validation set doesn’t decrease along with the training set, it means our model is improving its fit of the samples it is seeing during training, but it is not generalizing to samples outside this precise set. As soon as we evaluate the model at new, previously unseen points, the values of the loss function are poor. So, rule 2: if the training loss and the validation loss diverge, we’re overfitting.\n",
        "\n",
        "![](my_icons/ch58.JPG)\n",
        "\n",
        "### How to prevent overfitting \n",
        "\n",
        "1. First of all, we should make sure we get enough data for the process.\n",
        "2. We can add penalization terms to the loss function, to make it cheaper for the model to behave more smoothly and change more slowly (up to a point).\n",
        "3. Another is to add noise to the input samples, to artificially create new data\n",
        "points in between training data samples and force the model to try to fit those, too.\n",
        "4. Most important to choose the right size for a neural network model in\n",
        "terms of parameters, the process is based on two steps: increase the size until it fits, and then scale it down until it stops overfitting.\n",
        "\n",
        "\n"
      ]
    },
    {
      "cell_type": "markdown",
      "metadata": {
        "id": "M96u2EmBX2S0"
      },
      "source": [
        "## Using Validation \n",
        "\n"
      ]
    },
    {
      "cell_type": "code",
      "metadata": {
        "colab": {
          "base_uri": "https://localhost:8080/"
        },
        "id": "i-kVtJr1SXTv",
        "outputId": "35a18937-bfd7-49ca-f03a-ace546ce36f4"
      },
      "source": [
        "n_samples = t_u.shape[0]\n",
        "n_val = int(0.2 * n_samples)\n",
        "\n",
        "shuffled_indices = torch.randperm(n_samples)\n",
        "\n",
        "train_indices = shuffled_indices[:-n_val]\n",
        "val_indices = shuffled_indices[-n_val:]\n",
        "\n",
        "train_indices, val_indices  # <1>"
      ],
      "execution_count": 19,
      "outputs": [
        {
          "output_type": "execute_result",
          "data": {
            "text/plain": [
              "(tensor([ 2,  5,  3,  4,  8,  9, 10,  1,  7]), tensor([6, 0]))"
            ]
          },
          "metadata": {},
          "execution_count": 19
        }
      ]
    },
    {
      "cell_type": "code",
      "metadata": {
        "id": "LRu_LpCZX9bc"
      },
      "source": [
        "train_t_u = t_u[train_indices]\n",
        "train_t_c = t_c[train_indices]\n",
        "\n",
        "val_t_u = t_u[val_indices]\n",
        "val_t_c = t_c[val_indices]\n",
        "\n",
        "train_t_un = 0.1 * train_t_u\n",
        "val_t_un = 0.1 * val_t_u"
      ],
      "execution_count": 20,
      "outputs": []
    },
    {
      "cell_type": "markdown",
      "metadata": {
        "id": "vT9Dq34BYSsl"
      },
      "source": [
        "Our training loop doesn’t really change. We just want to additionally evaluate the validation loss at every epoch, to have a chance to recognize whether we’re overfitting:"
      ]
    },
    {
      "cell_type": "code",
      "metadata": {
        "id": "XjWrj7I6X_or"
      },
      "source": [
        "def training_loop(n_epochs, optimizer, params, train_t_u, val_t_u,\n",
        "                  train_t_c, val_t_c):\n",
        "    for epoch in range(1, n_epochs + 1):\n",
        "        train_t_p = model(train_t_u, *params) # \n",
        "        train_loss = loss_fn(train_t_p, train_t_c)\n",
        "                             \n",
        "        val_t_p = model(val_t_u, *params) # \n",
        "        val_loss = loss_fn(val_t_p, val_t_c)\n",
        "        \n",
        "        optimizer.zero_grad()\n",
        "        train_loss.backward() # \n",
        "        optimizer.step()\n",
        "\n",
        "        if epoch <= 3 or epoch % 500 == 0:\n",
        "            print(f\"Epoch {epoch}, Training loss {train_loss.item():.4f},\"\n",
        "                  f\" Validation loss {val_loss.item():.4f}\")\n",
        "            \n",
        "    return params"
      ],
      "execution_count": 21,
      "outputs": []
    },
    {
      "cell_type": "code",
      "metadata": {
        "colab": {
          "base_uri": "https://localhost:8080/"
        },
        "id": "eVaBIEtaYCBD",
        "outputId": "bb5dced1-a880-49bc-c657-fdfd3244e613"
      },
      "source": [
        "params = torch.tensor([1.0, 0.0], requires_grad=True)\n",
        "learning_rate = 1e-2\n",
        "optimizer = optim.SGD([params], lr=learning_rate)\n",
        "\n",
        "training_loop(\n",
        "    n_epochs = 3000, \n",
        "    optimizer = optimizer,\n",
        "    params = params,\n",
        "    train_t_u = train_t_un, # <1> \n",
        "    val_t_u = val_t_un, # <1> \n",
        "    train_t_c = train_t_c,\n",
        "    val_t_c = val_t_c)"
      ],
      "execution_count": 22,
      "outputs": [
        {
          "output_type": "stream",
          "name": "stdout",
          "text": [
            "Epoch 1, Training loss 97.1590, Validation loss 4.7885\n",
            "Epoch 2, Training loss 33.2024, Validation loss 29.7473\n",
            "Epoch 3, Training loss 26.7429, Validation loss 42.7580\n",
            "Epoch 500, Training loss 8.7188, Validation loss 12.4889\n",
            "Epoch 1000, Training loss 4.3259, Validation loss 4.3778\n",
            "Epoch 1500, Training loss 3.2235, Validation loss 3.0086\n",
            "Epoch 2000, Training loss 2.9469, Validation loss 2.9987\n",
            "Epoch 2500, Training loss 2.8775, Validation loss 3.1634\n",
            "Epoch 3000, Training loss 2.8601, Validation loss 3.2884\n"
          ]
        },
        {
          "output_type": "execute_result",
          "data": {
            "text/plain": [
              "tensor([  5.4078, -17.5912], requires_grad=True)"
            ]
          },
          "metadata": {},
          "execution_count": 22
        }
      ]
    },
    {
      "cell_type": "markdown",
      "metadata": {
        "id": "dzMzmg-sYtAt"
      },
      "source": [
        "## Autograd nits and switching it off\n",
        "\n",
        "The model is evaluated twice—once on train_t_u and once on val_t_u—and then backward is called. Won’t this confuse autograd? Won’t backward be influenced by the values generated during the pass on the validation set?\n",
        "\n",
        "Luckily for us, this isn’t the case. The first line in the training loop evaluates model on train_t_u to produce train_t_p. Then train_loss is evaluated from train_t_p. This creates a computation graph that links train_t_u to train_t_p to train_loss. When model is evaluated again on val_t_u, it produces val_t_p and val_loss. In this case, a separate computation graph will be created that links val_t_u to val_t_p to val_loss. Separate tensors have been run through the same functions, model and loss_fn, generating separate computation graphs, as shown in figure below.\n",
        "\n",
        "![](my_icons/ch59.JPG)\n",
        "\n",
        "\n",
        "Since we’re not ever calling backward\n",
        "on val_loss, why are we building the graph in the first place? We could in fact\n",
        "just call model and loss_fn as plain functions, without tracking the computation.\n",
        "However optimized, building the autograd graph comes with additional costs that we could totally forgo during the validation pass, especially when the model has millions of parameters. In order to address this, PyTorch allows us to switch off autograd when we don’t need it, using the torch.no_grad context manager.\n",
        "\n",
        "We won’t see any meaningful advantage in terms of speed or memory consumption on our small problem. However, for larger models, the differences can add up. We can make sure this works by checking the value of the requires_grad attribute on the val_loss tensor:\n"
      ]
    },
    {
      "cell_type": "code",
      "metadata": {
        "id": "Tn5D_qhnYEUL"
      },
      "source": [
        "def training_loop(n_epochs, optimizer, params, train_t_u, val_t_u,\n",
        "                  train_t_c, val_t_c):\n",
        "    for epoch in range(1, n_epochs + 1):\n",
        "        train_t_p = model(train_t_u, *params)\n",
        "        train_loss = loss_fn(train_t_p, train_t_c)\n",
        "\n",
        "        with torch.no_grad(): # <1>\n",
        "            val_t_p = model(val_t_u, *params)\n",
        "            val_loss = loss_fn(val_t_p, val_t_c)\n",
        "            assert val_loss.requires_grad == False # \n",
        "            \n",
        "        optimizer.zero_grad()\n",
        "        train_loss.backward()\n",
        "        optimizer.step()"
      ],
      "execution_count": 23,
      "outputs": []
    },
    {
      "cell_type": "markdown",
      "metadata": {
        "id": "uTHz0JpraO_F"
      },
      "source": [
        "## Summary\n",
        "1. Linear models are the simplest reasonable model to use to fit data.\n",
        "2.  Convex optimization techniques can be used for linear models, but they do not\n",
        "generalize to neural networks, so we focus on stochastic gradient descent for\n",
        "parameter estimation.\n",
        "3.  Deep learning can be used for generic models that are not engineered for solving\n",
        "a specific task, but instead can be automatically adapted to specialize themselves\n",
        "on the problem at hand.\n",
        "4.  Learning algorithms amount to optimizing parameters of models based on\n",
        "observations. A loss function is a measure of the error in carrying out a task,\n",
        "such as the error between predicted outputs and measured values. The goal is\n",
        "to get the loss function as low as possible.\n",
        "5. The rate of change of the loss function with respect to the model parameters\n",
        "can be used to update the same parameters in the direction of decreasing loss.\n",
        "6.  The optim module in PyTorch provides a collection of ready-to-use optimizers\n",
        "for updating parameters and minimizing loss functions.\n",
        "7.  Optimizers use the autograd feature of PyTorch to compute the gradient for\n",
        "each parameter, depending on how that parameter contributes to the final output.\n",
        "This allows users to rely on the dynamic computation graph during complex\n",
        "forward passes."
      ]
    },
    {
      "cell_type": "code",
      "metadata": {
        "id": "BQhBq8_3YJWc"
      },
      "source": [
        ""
      ],
      "execution_count": null,
      "outputs": []
    }
  ]
}